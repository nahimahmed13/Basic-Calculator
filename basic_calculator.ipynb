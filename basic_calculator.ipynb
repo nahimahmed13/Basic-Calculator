{
 "cells": [
  {
   "cell_type": "code",
   "execution_count": null,
   "metadata": {},
   "outputs": [],
   "source": [
    "from tkinter import *\n",
    "import tkinter.font as font\n",
    "def add():\n",
    "    x=int(entr1.get())\n",
    "    y=int(entr2.get())\n",
    "    result['text']=x+y\n",
    "\n",
    "def sub():\n",
    "    x=int(entr1.get())\n",
    "    y=int(entr2.get())\n",
    "    result['text']=x-y\n",
    "\n",
    "def mul():\n",
    "    x=int(entr1.get())\n",
    "    y=int(entr2.get())\n",
    "    result['text']=x*y\n",
    "\n",
    "def div():\n",
    "    x=int(entr1.get())\n",
    "    y=int(entr2.get())\n",
    "    result['text']=x/y\n",
    "root=Tk()\n",
    "num1=Label(root,text='Enter First Number:',font=('Serif',10))\n",
    "entr1= Entry(root)\n",
    "num2=Label(root,text='Enter Another Number:',font=('Serif',10))\n",
    "entr2= Entry(root)\n",
    "result1=Label(root,text='Result:',font=('Serif',10))\n",
    "result=Button(root,width=16)\n",
    "add=Button(root,text='Addition',width=10,command=add)\n",
    "sub=Button(root,text='Subtraction',width=10,command=sub)\n",
    "mul=Button(root,text='Multiplication',width=10,command=mul)\n",
    "div=Button(root,text='Division',width=10,command=div)\n",
    "num1.grid(row=0,column=0)\n",
    "entr1.grid(row=0,column=1)\n",
    "num2.grid(row=1,column=0)\n",
    "entr2.grid(row=1,column=1)\n",
    "result1.grid(row=2,column=0)\n",
    "result.grid(row=2,column=1)\n",
    "add.grid(row=3,column=0)\n",
    "sub.grid(row=4,column=0)\n",
    "mul.grid(row=5,column=0)\n",
    "div.grid(row=6,column=0)\n",
    "root.mainloop()"
   ]
  }
 ],
 "metadata": {
  "kernelspec": {
   "display_name": "Python 3",
   "language": "python",
   "name": "python3"
  },
  "language_info": {
   "codemirror_mode": {
    "name": "ipython",
    "version": 3
   },
   "file_extension": ".py",
   "mimetype": "text/x-python",
   "name": "python",
   "nbconvert_exporter": "python",
   "pygments_lexer": "ipython3",
   "version": "3.12.9"
  }
 },
 "nbformat": 4,
 "nbformat_minor": 2
}
